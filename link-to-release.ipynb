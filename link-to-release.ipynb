{
 "cells": [
  {
   "cell_type": "markdown",
   "metadata": {},
   "source": [
    "532 Individual Assignment\n",
    "\n",
    "https://github.ubc.ca/mds-2024-25/532_Intc_Dashboard/releases/tag/1.0.0"
   ]
  }
 ],
 "metadata": {
  "language_info": {
   "name": "python"
  }
 },
 "nbformat": 4,
 "nbformat_minor": 2
}
